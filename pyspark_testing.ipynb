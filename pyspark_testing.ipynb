{
 "cells": [
  {
   "cell_type": "code",
   "execution_count": 2,
   "id": "d128f245-cdc6-4e38-a771-4d9c5eadb58f",
   "metadata": {},
   "outputs": [
    {
     "name": "stderr",
     "output_type": "stream",
     "text": [
      "your 131072x1 screen size is bogus. expect trouble\n",
      "24/06/17 08:55:41 WARN Utils: Your hostname, nishal resolves to a loopback address: 127.0.1.1; using 10.255.255.254 instead (on interface lo)\n",
      "24/06/17 08:55:41 WARN Utils: Set SPARK_LOCAL_IP if you need to bind to another address\n",
      "Setting default log level to \"WARN\".\n",
      "To adjust logging level use sc.setLogLevel(newLevel). For SparkR, use setLogLevel(newLevel).\n",
      "24/06/17 08:55:42 WARN NativeCodeLoader: Unable to load native-hadoop library for your platform... using builtin-java classes where applicable\n"
     ]
    }
   ],
   "source": [
    "from pyspark.sql import SparkSession\n",
    "\n",
    "spark = SparkSession.builder.appName(\"First_App\").getOrCreate()"
   ]
  },
  {
   "cell_type": "code",
   "execution_count": 6,
   "id": "ce521b29-3247-483e-b29d-3ebb74e2880a",
   "metadata": {},
   "outputs": [],
   "source": [
    "film_df = spark.read.csv(\"./data/film.csv\", header=True, inferSchema=True)\n",
    "film_actor_df = spark.read.csv(\"./data/film_actor.csv\", header=True, inferSchema=True)\n",
    "actor_df = spark.read.csv(\"./data/actor.csv\", header=True, inferSchema=True)\n",
    "film_category_df = spark.read.csv(\"./data/film_category.csv\", header=True, inferSchema=True)\n",
    "category_df = spark.read.csv(\"./data/category.csv\", inferSchema=True, header=True)"
   ]
  },
  {
   "cell_type": "code",
   "execution_count": 8,
   "id": "1455bcb8",
   "metadata": {},
   "outputs": [
    {
     "name": "stdout",
     "output_type": "stream",
     "text": [
      "root\n",
      " |-- film_id: integer (nullable = true)\n",
      " |-- title: string (nullable = true)\n",
      " |-- description: string (nullable = true)\n",
      " |-- release_year: integer (nullable = true)\n",
      " |-- language_id: integer (nullable = true)\n",
      " |-- original_language_id: string (nullable = true)\n",
      " |-- rental_duration: integer (nullable = true)\n",
      " |-- rental_rate: double (nullable = true)\n",
      " |-- length: integer (nullable = true)\n",
      " |-- replacement_cost: double (nullable = true)\n",
      " |-- rating: string (nullable = true)\n",
      " |-- special_features: string (nullable = true)\n",
      " |-- last_update: timestamp (nullable = true)\n",
      "\n",
      "root\n",
      " |-- actor_id: integer (nullable = true)\n",
      " |-- film_id: integer (nullable = true)\n",
      " |-- last_update: timestamp (nullable = true)\n",
      "\n",
      "root\n",
      " |-- actor_id: integer (nullable = true)\n",
      " |-- first_name: string (nullable = true)\n",
      " |-- last_name: string (nullable = true)\n",
      " |-- last_update: timestamp (nullable = true)\n",
      "\n",
      "root\n",
      " |-- film_id: integer (nullable = true)\n",
      " |-- category_id: integer (nullable = true)\n",
      " |-- last_update: timestamp (nullable = true)\n",
      "\n",
      "root\n",
      " |-- category_id: integer (nullable = true)\n",
      " |-- name: string (nullable = true)\n",
      " |-- last_update: timestamp (nullable = true)\n",
      "\n"
     ]
    }
   ],
   "source": [
    "film_df.printSchema()\n",
    "film_actor_df.printSchema()\n",
    "actor_df.printSchema()\n",
    "film_category_df.printSchema()\n",
    "category_df.printSchema()"
   ]
  },
  {
   "cell_type": "code",
   "execution_count": 9,
   "id": "8d091171",
   "metadata": {},
   "outputs": [],
   "source": [
    "new_actor = actor_df.join(film_actor_df, actor_df.actor_id == film_actor_df.actor_id, \"right\").select(actor_df.actor_id, film_actor_df.film_id, actor_df.first_name, actor_df.last_name)"
   ]
  },
  {
   "cell_type": "code",
   "execution_count": 11,
   "id": "a7d249c7",
   "metadata": {},
   "outputs": [
    {
     "name": "stderr",
     "output_type": "stream",
     "text": [
      "                                                                                \r"
     ]
    },
    {
     "name": "stdout",
     "output_type": "stream",
     "text": [
      "+--------+-------+----------+---------+\n",
      "|actor_id|film_id|first_name|last_name|\n",
      "+--------+-------+----------+---------+\n",
      "|       1|      1|  PENELOPE|  GUINESS|\n",
      "|       1|     23|  PENELOPE|  GUINESS|\n",
      "|       1|     25|  PENELOPE|  GUINESS|\n",
      "|       1|    106|  PENELOPE|  GUINESS|\n",
      "|       1|    140|  PENELOPE|  GUINESS|\n",
      "|       1|    166|  PENELOPE|  GUINESS|\n",
      "|       1|    277|  PENELOPE|  GUINESS|\n",
      "|       1|    361|  PENELOPE|  GUINESS|\n",
      "|       1|    438|  PENELOPE|  GUINESS|\n",
      "|       1|    499|  PENELOPE|  GUINESS|\n",
      "+--------+-------+----------+---------+\n",
      "only showing top 10 rows\n",
      "\n"
     ]
    }
   ],
   "source": [
    "new_actor.show(10)"
   ]
  },
  {
   "cell_type": "code",
   "execution_count": 12,
   "id": "9d76908c",
   "metadata": {},
   "outputs": [
    {
     "name": "stdout",
     "output_type": "stream",
     "text": [
      "+--------+-------+----------------+---------------+\n",
      "|actor_id|film_id|actor_first_name|actor_last_name|\n",
      "+--------+-------+----------------+---------------+\n",
      "|       1|      1|        PENELOPE|        GUINESS|\n",
      "|       1|     23|        PENELOPE|        GUINESS|\n",
      "|       1|     25|        PENELOPE|        GUINESS|\n",
      "|       1|    106|        PENELOPE|        GUINESS|\n",
      "|       1|    140|        PENELOPE|        GUINESS|\n",
      "|       1|    166|        PENELOPE|        GUINESS|\n",
      "|       1|    277|        PENELOPE|        GUINESS|\n",
      "|       1|    361|        PENELOPE|        GUINESS|\n",
      "|       1|    438|        PENELOPE|        GUINESS|\n",
      "|       1|    499|        PENELOPE|        GUINESS|\n",
      "+--------+-------+----------------+---------------+\n",
      "only showing top 10 rows\n",
      "\n"
     ]
    }
   ],
   "source": [
    "new_actor = new_actor.withColumnsRenamed({\"first_name\": \"actor_first_name\", \"last_name\": \"actor_last_name\"})\n",
    "\n",
    "new_actor.show(10)"
   ]
  },
  {
   "cell_type": "code",
   "execution_count": 14,
   "id": "d902902a",
   "metadata": {},
   "outputs": [
    {
     "name": "stdout",
     "output_type": "stream",
     "text": [
      "+-----------+-------+-----------+\n",
      "|category_id|film_id|       name|\n",
      "+-----------+-------+-----------+\n",
      "|          6|      1|Documentary|\n",
      "|         11|      2|     Horror|\n",
      "|          6|      3|Documentary|\n",
      "|         11|      4|     Horror|\n",
      "|          8|      5|     Family|\n",
      "|          9|      6|    Foreign|\n",
      "|          5|      7|     Comedy|\n",
      "|         11|      8|     Horror|\n",
      "|         11|      9|     Horror|\n",
      "|         15|     10|     Sports|\n",
      "+-----------+-------+-----------+\n",
      "only showing top 10 rows\n",
      "\n"
     ]
    }
   ],
   "source": [
    "new_category = category_df.join(film_category_df, film_category_df.category_id == category_df.category_id, \"right\").select(category_df.category_id, film_category_df.film_id, category_df.name)\n",
    "\n",
    "new_category.show(10)"
   ]
  },
  {
   "cell_type": "code",
   "execution_count": 15,
   "id": "86bf3a8d",
   "metadata": {},
   "outputs": [],
   "source": [
    "new_category = new_category.withColumnRenamed(\"name\", \"category\")"
   ]
  },
  {
   "cell_type": "code",
   "execution_count": 16,
   "id": "e58cebf4",
   "metadata": {},
   "outputs": [
    {
     "name": "stdout",
     "output_type": "stream",
     "text": [
      "+-----------+-------+-----------+\n",
      "|category_id|film_id|   category|\n",
      "+-----------+-------+-----------+\n",
      "|          6|      1|Documentary|\n",
      "|         11|      2|     Horror|\n",
      "|          6|      3|Documentary|\n",
      "|         11|      4|     Horror|\n",
      "|          8|      5|     Family|\n",
      "|          9|      6|    Foreign|\n",
      "|          5|      7|     Comedy|\n",
      "|         11|      8|     Horror|\n",
      "|         11|      9|     Horror|\n",
      "|         15|     10|     Sports|\n",
      "+-----------+-------+-----------+\n",
      "only showing top 10 rows\n",
      "\n"
     ]
    }
   ],
   "source": [
    "new_category.show(10)"
   ]
  },
  {
   "cell_type": "code",
   "execution_count": 20,
   "id": "4fc5f2ba",
   "metadata": {},
   "outputs": [
    {
     "name": "stdout",
     "output_type": "stream",
     "text": [
      "root\n",
      " |-- film_id: integer (nullable = true)\n",
      " |-- title: string (nullable = true)\n",
      " |-- description: string (nullable = true)\n",
      " |-- release_year: integer (nullable = true)\n",
      " |-- language_id: integer (nullable = true)\n",
      " |-- original_language_id: string (nullable = true)\n",
      " |-- rental_duration: integer (nullable = true)\n",
      " |-- rental_rate: double (nullable = true)\n",
      " |-- length: integer (nullable = true)\n",
      " |-- replacement_cost: double (nullable = true)\n",
      " |-- rating: string (nullable = true)\n",
      " |-- special_features: string (nullable = true)\n",
      " |-- actor_first_name: string (nullable = true)\n",
      " |-- actor_last_name: string (nullable = true)\n",
      "\n",
      "+-------+----------------+--------------------+------------+-----------+--------------------+---------------+-----------+------+----------------+------+--------------------+----------------+---------------+\n",
      "|film_id|           title|         description|release_year|language_id|original_language_id|rental_duration|rental_rate|length|replacement_cost|rating|    special_features|actor_first_name|actor_last_name|\n",
      "+-------+----------------+--------------------+------------+-----------+--------------------+---------------+-----------+------+----------------+------+--------------------+----------------+---------------+\n",
      "|      1|ACADEMY DINOSAUR|A Epic Drama of a...|        2006|          1|                NULL|              6|       0.99|    86|           20.99|    PG|Deleted Scenes,Be...|        PENELOPE|        GUINESS|\n",
      "|      1|ACADEMY DINOSAUR|A Epic Drama of a...|        2006|          1|                NULL|              6|       0.99|    86|           20.99|    PG|Deleted Scenes,Be...|       CHRISTIAN|          GABLE|\n",
      "|      1|ACADEMY DINOSAUR|A Epic Drama of a...|        2006|          1|                NULL|              6|       0.99|    86|           20.99|    PG|Deleted Scenes,Be...|         LUCILLE|          TRACY|\n",
      "|      1|ACADEMY DINOSAUR|A Epic Drama of a...|        2006|          1|                NULL|              6|       0.99|    86|           20.99|    PG|Deleted Scenes,Be...|          SANDRA|           PECK|\n",
      "|      1|ACADEMY DINOSAUR|A Epic Drama of a...|        2006|          1|                NULL|              6|       0.99|    86|           20.99|    PG|Deleted Scenes,Be...|          JOHNNY|           CAGE|\n",
      "|      1|ACADEMY DINOSAUR|A Epic Drama of a...|        2006|          1|                NULL|              6|       0.99|    86|           20.99|    PG|Deleted Scenes,Be...|            MENA|         TEMPLE|\n",
      "|      1|ACADEMY DINOSAUR|A Epic Drama of a...|        2006|          1|                NULL|              6|       0.99|    86|           20.99|    PG|Deleted Scenes,Be...|          WARREN|          NOLTE|\n",
      "|      1|ACADEMY DINOSAUR|A Epic Drama of a...|        2006|          1|                NULL|              6|       0.99|    86|           20.99|    PG|Deleted Scenes,Be...|           OPRAH|         KILMER|\n",
      "|      1|ACADEMY DINOSAUR|A Epic Drama of a...|        2006|          1|                NULL|              6|       0.99|    86|           20.99|    PG|Deleted Scenes,Be...|            ROCK|        DUKAKIS|\n",
      "|      1|ACADEMY DINOSAUR|A Epic Drama of a...|        2006|          1|                NULL|              6|       0.99|    86|           20.99|    PG|Deleted Scenes,Be...|            MARY|         KEITEL|\n",
      "+-------+----------------+--------------------+------------+-----------+--------------------+---------------+-----------+------+----------------+------+--------------------+----------------+---------------+\n",
      "only showing top 10 rows\n",
      "\n"
     ]
    }
   ],
   "source": [
    "new_films = film_df.join(new_actor, new_actor.film_id == film_df.film_id, \"left\").select(\n",
    "film_df.film_id,\n",
    "film_df.title,\n",
    "film_df.description,\n",
    "film_df.release_year,\n",
    "film_df.language_id,\n",
    "film_df.original_language_id,\n",
    "film_df.rental_duration,\n",
    "film_df.rental_rate,\n",
    "film_df.length,\n",
    "film_df.replacement_cost,\n",
    "film_df.rating,\n",
    "film_df.special_features,\n",
    "new_actor.actor_first_name,\n",
    "new_actor.actor_last_name,\n",
    ")\n",
    "\n",
    "new_films.printSchema()\n",
    "new_films.show(10)"
   ]
  },
  {
   "cell_type": "code",
   "execution_count": null,
   "id": "5ef09b73",
   "metadata": {},
   "outputs": [],
   "source": []
  }
 ],
 "metadata": {
  "kernelspec": {
   "display_name": "Python 3 (ipykernel)",
   "language": "python",
   "name": "python3"
  },
  "language_info": {
   "codemirror_mode": {
    "name": "ipython",
    "version": 3
   },
   "file_extension": ".py",
   "mimetype": "text/x-python",
   "name": "python",
   "nbconvert_exporter": "python",
   "pygments_lexer": "ipython3",
   "version": "3.10.11"
  }
 },
 "nbformat": 4,
 "nbformat_minor": 5
}
